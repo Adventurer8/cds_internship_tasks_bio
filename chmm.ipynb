{
 "cells": [
  {
   "cell_type": "markdown",
   "id": "e9140a00",
   "metadata": {},
   "source": [
    "### Cloned Hidden Markov Model\n",
    "\n",
    "##### Структура проекта:\n",
    "\n",
    "`chmm/\n",
    "    configs/\n",
    "        --hmm_default.yaml\n",
    "        --hmm_runner.yaml\n",
    "        --mpg_default.yaml\n",
    "    mylib/\n",
    "        --__init__.py\n",
    "        --chmm.py\n",
    "        --mpg.py\n",
    "        --hmm_runner.py\n",
    "`\n",
    "\n",
    "`chmm.py` --- содержит класс `CHMM` в котором нужно дописать методы, чтобы выполнить задание\n",
    "\n",
    "`mpg.py` --- генератор последовательностей символов, соответствующих марковскому процессу, представленному на рисунке. Ноды данной сети представляют собой скрытые состояния процесса, стрелочки --- возможные переходы между ними. Цифры около стрелок указывают вероятность перехода, а буквы --- генерируемые символы в результате данного перехода. Таким образом, данный марковский процесс задаёт некоторую грамматику.\n",
    "\n",
    "![mpg](assets/mpg.png)\n",
    "\n",
    "Примеры возможных последовательностей:\n",
    "\n",
    "* BTXSE\n",
    "* BPTTTTVVE\n",
    "* BTSSSXXVVE\n",
    "\n",
    "и так далее.\n",
    "\n",
    "`hmm_runner.py` --- запускает обучение `CHMM` на последовательностях, сгенерированных в ходе марковского процесса. Здача модели --- научиться минимизировать неожиданность входных наблюдений. В ходе обучения вычисляются метрики качества: неожиданность ($-\\log P(o)$), расстояние Кульбака-Лейблера и строится сглаженный портрет предсказываемых распределений в каждом состоянии марковского процесса.  \n",
    "\n",
    "\n",
    "#### Задание:\n",
    "\n",
    "1. Прочитать [статью](http://arxiv.org/abs/1905.00507).\n",
    "2. Установить пакеты из `requirements.txt`\n",
    "3. Реализовать _CHMM_, дописав методы в `chmm.py`. Можно написать свой класс, главное, чтобы были методы и атрибуты, используемые в `hmm_runner.py`, который запускает тестирование модели. Самостоятельно реализовать онлайн вариант алгоритма Баума-Вельша (Baum-Welch), описанный в статье из пункта 1.\n",
    "4. Из библиотеки [hmmlearn](https://hmmlearn.readthedocs.io/en/latest/) запустить готовую реализацию `HMM` для этой же задачи и сравнить с реализацией `CHMM`, полученной во втором пункте.\n",
    "\n",
    "__Замечания__\n",
    "\n",
    "_Результатом работы должен быть код в `chmm.py` и логи из [`wandb`](https://wandb.ai/site) проекта._ \n",
    "\n",
    "_Логгинг в `wandb` уже реализован, нужно только определить `WANDB_ENTITY` переменную в окружении, в которую нужно записать имя аккаунта в `wandb`._\n",
    "\n",
    "_Задачу можно решать и в свободной форме (без использования `hmm_runner.py`), главное, чтобы были понятные графики обучения и полученных распределений._"
   ]
  },
  {
   "cell_type": "code",
   "execution_count": null,
   "id": "b41b4fb6",
   "metadata": {},
   "outputs": [],
   "source": [
    "import wandb\n",
    "import yaml\n",
    "import os\n",
    "\n",
    "from mylib.hmm_runner import HMMRunner"
   ]
  },
  {
   "cell_type": "code",
   "execution_count": null,
   "id": "24e0e7bb",
   "metadata": {},
   "outputs": [],
   "source": [
    "os.environ['WANDB_ENTITY'] = 'your_login'"
   ]
  },
  {
   "cell_type": "code",
   "execution_count": null,
   "id": "cba6ef9c",
   "metadata": {},
   "outputs": [],
   "source": [
    "config_path = 'configs/hmm_runner.yaml'"
   ]
  },
  {
   "cell_type": "code",
   "execution_count": null,
   "id": "b74bb57c",
   "metadata": {},
   "outputs": [],
   "source": [
    "# load configs\n",
    "\n",
    "config = dict()\n",
    "\n",
    "with open(config_path, 'r') as file:\n",
    "    config['run'] = yaml.load(file, Loader=yaml.Loader)\n",
    "\n",
    "with open(config['run']['hmm_conf'], 'r') as file:\n",
    "    config['hmm'] = yaml.load(file, Loader=yaml.Loader)\n",
    "\n",
    "with open(config['run']['mpg_conf'], 'r') as file:\n",
    "    config['mpg'] = yaml.load(file, Loader=yaml.Loader)\n",
    "\n",
    "\n",
    "if config['run']['log']:\n",
    "    logger = wandb.init(\n",
    "        project=config['run']['project_name'], entity=os.environ['WANDB_ENTITY'],\n",
    "        config=config\n",
    "    )\n",
    "else:\n",
    "    logger = None"
   ]
  },
  {
   "cell_type": "code",
   "execution_count": null,
   "id": "75dbb500",
   "metadata": {
    "scrolled": false
   },
   "outputs": [],
   "source": [
    "config"
   ]
  },
  {
   "cell_type": "code",
   "execution_count": null,
   "id": "af5cee93",
   "metadata": {},
   "outputs": [],
   "source": [
    "runner = HMMRunner(logger, config)\n",
    "runner.run()"
   ]
  }
 ],
 "metadata": {
  "kernelspec": {
   "display_name": "Python 3 (ipykernel)",
   "language": "python",
   "name": "python3"
  },
  "language_info": {
   "codemirror_mode": {
    "name": "ipython",
    "version": 3
   },
   "file_extension": ".py",
   "mimetype": "text/x-python",
   "name": "python",
   "nbconvert_exporter": "python",
   "pygments_lexer": "ipython3",
   "version": "3.9.9"
  }
 },
 "nbformat": 4,
 "nbformat_minor": 5
}
